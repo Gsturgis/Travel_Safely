{
 "cells": [
  {
   "cell_type": "code",
   "execution_count": null,
   "metadata": {},
   "outputs": [],
   "source": [
    "pip install amadeus "
   ]
  },
  {
   "cell_type": "code",
   "execution_count": null,
   "metadata": {},
   "outputs": [],
   "source": [
    "pip install -r requirements.txt"
   ]
  },
  {
   "cell_type": "code",
   "execution_count": null,
   "metadata": {},
   "outputs": [],
   "source": [
    "import json"
   ]
  },
  {
   "cell_type": "code",
   "execution_count": 11,
   "metadata": {},
   "outputs": [
    {
     "name": "stdout",
     "output_type": "stream",
     "text": [
      "[{'type': 'location', 'subType': 'AIRPORT', 'name': 'HEATHROW', 'detailedName': 'LONDON/GB:HEATHROW', 'timeZoneOffset': '+01:00', 'iataCode': 'LHR', 'geoCode': {'latitude': 51.47294, 'longitude': -0.45061}, 'address': {'cityName': 'LONDON', 'cityCode': 'LON', 'countryName': 'UNITED KINGDOM', 'countryCode': 'GB', 'regionCode': 'EUROP'}, 'distance': {'value': 10, 'unit': 'KM'}, 'analytics': {'flights': {'score': 39}, 'travelers': {'score': 45}}, 'relevance': 360.5614}, {'type': 'location', 'subType': 'AIRPORT', 'name': 'GATWICK', 'detailedName': 'LONDON/GB:GATWICK', 'timeZoneOffset': '+01:00', 'iataCode': 'LGW', 'geoCode': {'latitude': 51.15609, 'longitude': -0.17818}, 'address': {'cityName': 'LONDON', 'cityCode': 'LON', 'countryName': 'UNITED KINGDOM', 'countryCode': 'GB', 'regionCode': 'EUROP'}, 'distance': {'value': 49, 'unit': 'KM'}, 'analytics': {'flights': {'score': 27}, 'travelers': {'score': 27}}, 'relevance': 53.99024}, {'type': 'location', 'subType': 'AIRPORT', 'name': 'LUTON', 'detailedName': 'LONDON/GB:LUTON', 'timeZoneOffset': '+01:00', 'iataCode': 'LTN', 'geoCode': {'latitude': 51.87472, 'longitude': -0.36833}, 'address': {'cityName': 'LONDON', 'cityCode': 'LON', 'countryName': 'UNITED KINGDOM', 'countryCode': 'GB', 'regionCode': 'EUROP'}, 'distance': {'value': 34, 'unit': 'KM'}, 'analytics': {'flights': {'score': 11}, 'travelers': {'score': 10}}, 'relevance': 32.81459}, {'type': 'location', 'subType': 'AIRPORT', 'name': 'STANSTED', 'detailedName': 'LONDON/GB:STANSTED', 'timeZoneOffset': '+01:00', 'iataCode': 'STN', 'geoCode': {'latitude': 51.885, 'longitude': 0.235}, 'address': {'cityName': 'LONDON', 'cityCode': 'LON', 'countryName': 'UNITED KINGDOM', 'countryCode': 'GB', 'regionCode': 'EUROP'}, 'distance': {'value': 58, 'unit': 'KM'}, 'analytics': {'flights': {'score': 16}, 'travelers': {'score': 15}}, 'relevance': 27.45404}, {'type': 'location', 'subType': 'AIRPORT', 'name': 'CITY AIRPORT', 'detailedName': 'LONDON/GB:CITY AIRPORT', 'timeZoneOffset': '+01:00', 'iataCode': 'LCY', 'geoCode': {'latitude': 51.50528, 'longitude': 0.05528}, 'address': {'cityName': 'LONDON', 'cityCode': 'LON', 'countryName': 'UNITED KINGDOM', 'countryCode': 'GB', 'regionCode': 'EUROP'}, 'distance': {'value': 35, 'unit': 'KM'}, 'analytics': {'flights': {'score': 8}, 'travelers': {'score': 4}}, 'relevance': 21.89597}, {'type': 'location', 'subType': 'AIRPORT', 'name': 'BIRMINGHAM', 'detailedName': 'BIRMINGHAM/GB:BIRMINGHAM', 'timeZoneOffset': '+01:00', 'iataCode': 'BHX', 'geoCode': {'latitude': 52.45386, 'longitude': -1.74803}, 'address': {'cityName': 'BIRMINGHAM', 'cityCode': 'BHX', 'countryName': 'UNITED KINGDOM', 'countryCode': 'GB', 'regionCode': 'EUROP'}, 'distance': {'value': 133, 'unit': 'KM'}, 'analytics': {'flights': {'score': 10}, 'travelers': {'score': 8}}, 'relevance': 7.71551}, {'type': 'location', 'subType': 'AIRPORT', 'name': 'MANCHESTER AIRPORT', 'detailedName': 'MANCHESTER/GB:MANCHESTER AIRPO', 'timeZoneOffset': '+01:00', 'iataCode': 'MAN', 'geoCode': {'latitude': 53.35374, 'longitude': -2.27495}, 'address': {'cityName': 'MANCHESTER', 'cityCode': 'MAN', 'countryName': 'UNITED KINGDOM', 'countryCode': 'GB', 'regionCode': 'EUROP'}, 'distance': {'value': 234, 'unit': 'KM'}, 'analytics': {'flights': {'score': 18}, 'travelers': {'score': 17}}, 'relevance': 7.70002}, {'type': 'location', 'subType': 'AIRPORT', 'name': 'SOUTHAMPTON', 'detailedName': 'SOUTHAMPTON/GB', 'timeZoneOffset': '+01:00', 'iataCode': 'SOU', 'geoCode': {'latitude': 50.95026, 'longitude': -1.3568}, 'address': {'cityName': 'SOUTHAMPTON', 'cityCode': 'SOU', 'countryName': 'UNITED KINGDOM', 'countryCode': 'GB', 'regionCode': 'EUROP'}, 'distance': {'value': 94, 'unit': 'KM'}, 'analytics': {'flights': {'score': 4}, 'travelers': {'score': 2}}, 'relevance': 4.48622}, {'type': 'location', 'subType': 'AIRPORT', 'name': 'BRISTOL', 'detailedName': 'BRISTOL/GB:BRISTOL', 'timeZoneOffset': '+01:00', 'iataCode': 'BRS', 'geoCode': {'latitude': 51.38267, 'longitude': -2.71909}, 'address': {'cityName': 'BRISTOL', 'cityCode': 'BRS', 'countryName': 'UNITED KINGDOM', 'countryCode': 'GB', 'regionCode': 'EUROP'}, 'distance': {'value': 159, 'unit': 'KM'}, 'analytics': {'flights': {'score': 7}, 'travelers': {'score': 5}}, 'relevance': 4.08428}, {'type': 'location', 'subType': 'AIRPORT', 'name': 'EAST MIDLANDS', 'detailedName': 'NOTTINGHAM/GB:EAST MIDLANDS', 'timeZoneOffset': '+01:00', 'iataCode': 'EMA', 'geoCode': {'latitude': 52.83111, 'longitude': -1.32806}, 'address': {'cityName': 'NOTTINGHAM', 'cityCode': 'NQT', 'countryName': 'UNITED KINGDOM', 'countryCode': 'GB', 'regionCode': 'EUROP'}, 'distance': {'value': 152, 'unit': 'KM'}, 'analytics': {'flights': {'score': 4}, 'travelers': {'score': 3}}, 'relevance': 2.65515}]\n"
     ]
    }
   ],
   "source": [
    "from amadeus import Client, ResponseError\n",
    "\n",
    "amadeus = Client(\n",
    "    client_id='5A8UsDHg4fjkiEsaWJDaOzenPdkPcmH5',\n",
    "    client_secret='bVNrudgOJZcyYXjY'\n",
    ")\n",
    "\n",
    "try:\n",
    "    response = amadeus.reference_data.locations.airports.get(longitude=-0.44,latitude=51.57)\n",
    "    print(response.data)\n",
    "except ResponseError as error:\n",
    "    print(error)"
   ]
  },
  {
   "cell_type": "code",
   "execution_count": 39,
   "metadata": {},
   "outputs": [],
   "source": [
    "import pandas as pd\n",
    "df = pd.json_normalize(response.data)"
   ]
  },
  {
   "cell_type": "code",
   "execution_count": 41,
   "metadata": {},
   "outputs": [],
   "source": [
    "df.to_csv('flight_data.csv')"
   ]
  },
  {
   "cell_type": "code",
   "execution_count": 25,
   "metadata": {},
   "outputs": [
    {
     "name": "stdout",
     "output_type": "stream",
     "text": [
      "Requirement already satisfied: geopy in /usr/local/Cellar/jupyterlab/2.2.8/libexec/lib/python3.8/site-packages (2.1.0)\n",
      "Requirement already satisfied: geographiclib<2,>=1.49 in /usr/local/Cellar/jupyterlab/2.2.8/libexec/lib/python3.8/site-packages (from geopy) (1.50)\n",
      "\u001b[33mWARNING: You are using pip version 20.2.3; however, version 21.1 is available.\n",
      "You should consider upgrading via the '/usr/local/Cellar/jupyterlab/2.2.8/libexec/bin/python3.8 -m pip install --upgrade pip' command.\u001b[0m\n",
      "Note: you may need to restart the kernel to use updated packages.\n"
     ]
    }
   ],
   "source": [
    "pip install geopy"
   ]
  },
  {
   "cell_type": "code",
   "execution_count": 26,
   "metadata": {},
   "outputs": [],
   "source": [
    " from geopy.geocoders import Nominatim"
   ]
  },
  {
   "cell_type": "code",
   "execution_count": 36,
   "metadata": {},
   "outputs": [
    {
     "name": "stdin",
     "output_type": "stream",
     "text": [
      "Where are you trying to travel?:  175 5th Avenue NYC\n"
     ]
    },
    {
     "ename": "AttributeError",
     "evalue": "'str' object has no attribute 'countryName'",
     "output_type": "error",
     "traceback": [
      "\u001b[0;31m---------------------------------------------------------------------------\u001b[0m",
      "\u001b[0;31mAttributeError\u001b[0m                            Traceback (most recent call last)",
      "\u001b[0;32m<ipython-input-36-9a255b42ba4f>\u001b[0m in \u001b[0;36m<module>\u001b[0;34m\u001b[0m\n\u001b[1;32m     14\u001b[0m \u001b[0;34m\u001b[0m\u001b[0m\n\u001b[1;32m     15\u001b[0m \u001b[0;34m\u001b[0m\u001b[0m\n\u001b[0;32m---> 16\u001b[0;31m \u001b[0mfancy_travel\u001b[0m\u001b[0;34m(\u001b[0m\u001b[0;34m)\u001b[0m\u001b[0;34m\u001b[0m\u001b[0;34m\u001b[0m\u001b[0m\n\u001b[0m",
      "\u001b[0;32m<ipython-input-36-9a255b42ba4f>\u001b[0m in \u001b[0;36mfancy_travel\u001b[0;34m()\u001b[0m\n\u001b[1;32m      4\u001b[0m     \u001b[0mgeolocator\u001b[0m\u001b[0;34m.\u001b[0m\u001b[0mgeocode\u001b[0m\u001b[0;34m(\u001b[0m\u001b[0mtravel\u001b[0m\u001b[0;34m)\u001b[0m\u001b[0;34m\u001b[0m\u001b[0;34m\u001b[0m\u001b[0m\n\u001b[1;32m      5\u001b[0m     \u001b[0mlocation\u001b[0m \u001b[0;34m=\u001b[0m \u001b[0mgeolocator\u001b[0m\u001b[0;34m.\u001b[0m\u001b[0mgeocode\u001b[0m\u001b[0;34m(\u001b[0m\u001b[0mtravel\u001b[0m\u001b[0;34m)\u001b[0m\u001b[0;34m\u001b[0m\u001b[0;34m\u001b[0m\u001b[0m\n\u001b[0;32m----> 6\u001b[0;31m     \u001b[0mprint\u001b[0m\u001b[0;34m(\u001b[0m\u001b[0mlocation\u001b[0m\u001b[0;34m.\u001b[0m\u001b[0maddress\u001b[0m\u001b[0;34m.\u001b[0m\u001b[0mcountryName\u001b[0m\u001b[0;34m)\u001b[0m\u001b[0;34m\u001b[0m\u001b[0;34m\u001b[0m\u001b[0m\n\u001b[0m\u001b[1;32m      7\u001b[0m \u001b[0;31m#     coordinates = ((location.latitude, location.longitude)\u001b[0m\u001b[0;34m\u001b[0m\u001b[0;34m\u001b[0m\u001b[0;34m\u001b[0m\u001b[0m\n\u001b[1;32m      8\u001b[0m \u001b[0;31m#     return coordinates\u001b[0m\u001b[0;34m\u001b[0m\u001b[0;34m\u001b[0m\u001b[0;34m\u001b[0m\u001b[0m\n",
      "\u001b[0;31mAttributeError\u001b[0m: 'str' object has no attribute 'countryName'"
     ]
    }
   ],
   "source": [
    "\n",
    "def fancy_travel():\n",
    "    travel= input(\"Where are you trying to travel?: \")\n",
    "    geolocator = Nominatim(user_agent=\"Travel_Safely\")\n",
    "    geolocator.geocode(travel)\n",
    "    location = geolocator.geocode(travel)\n",
    "    print(location.address.countryName)\n",
    "#     coordinates = ((location.latitude, location.longitude)\n",
    "#     return coordinates\n",
    "\n",
    "#  def api_call(latitude=lat,longitude=long):\n",
    "#         for i in response:\n",
    "#              print(i)\n",
    "         \n",
    "        \n",
    "                   \n",
    "fancy_travel()"
   ]
  },
  {
   "cell_type": "code",
   "execution_count": 6,
   "metadata": {},
   "outputs": [],
   "source": [
    "# Initialize using parameters\n",
    "amadeus = Client(client_id='5A8UsDHg4fjkiEsaWJDaOzenPdkPcmH5', client_secret='bVNrudgOJZcyYXjY')"
   ]
  },
  {
   "cell_type": "code",
   "execution_count": 7,
   "metadata": {},
   "outputs": [
    {
     "data": {
      "text/plain": [
       "<amadeus.amadeus.Client at 0x102cdfd60>"
      ]
     },
     "execution_count": 7,
     "metadata": {},
     "output_type": "execute_result"
    }
   ],
   "source": [
    "amadeus "
   ]
  },
  {
   "cell_type": "code",
   "execution_count": 4,
   "metadata": {},
   "outputs": [
    {
     "data": {
      "text/plain": [
       "<amadeus.client.response.Response at 0x102ce9a30>"
      ]
     },
     "execution_count": 4,
     "metadata": {},
     "output_type": "execute_result"
    }
   ],
   "source": [
    "amadeus.shopping.flight_destinations.get(origin='LON')"
   ]
  },
  {
   "cell_type": "code",
   "execution_count": null,
   "metadata": {},
   "outputs": [],
   "source": [
    "from amadeus import Location\n",
    "\n",
    "response = amadeus.reference_data.locations.get(\n",
    "    keyword='LON',\n",
    "    subType=Location.ANY\n",
    ")\n",
    "\n",
    "amadeus.next(response)"
   ]
  },
  {
   "cell_type": "code",
   "execution_count": null,
   "metadata": {},
   "outputs": [],
   "source": [
    "response"
   ]
  },
  {
   "cell_type": "code",
   "execution_count": null,
   "metadata": {},
   "outputs": [],
   "source": [
    "amadeus.get('/shopping​/flight-offers',originLocationCode = 'SYD', destinationLocationCode = 'BKK')"
   ]
  },
  {
   "cell_type": "code",
   "execution_count": null,
   "metadata": {},
   "outputs": [],
   "source": []
  }
 ],
 "metadata": {
  "kernelspec": {
   "display_name": "Python 3",
   "language": "python",
   "name": "python3"
  },
  "language_info": {
   "codemirror_mode": {
    "name": "ipython",
    "version": 3
   },
   "file_extension": ".py",
   "mimetype": "text/x-python",
   "name": "python",
   "nbconvert_exporter": "python",
   "pygments_lexer": "ipython3",
   "version": "3.8.5"
  }
 },
 "nbformat": 4,
 "nbformat_minor": 5
}
